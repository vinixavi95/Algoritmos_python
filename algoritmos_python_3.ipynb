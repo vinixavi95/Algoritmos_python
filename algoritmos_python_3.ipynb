{
  "nbformat": 4,
  "nbformat_minor": 0,
  "metadata": {
    "colab": {
      "provenance": []
    },
    "kernelspec": {
      "name": "python3",
      "display_name": "Python 3"
    },
    "language_info": {
      "name": "python"
    }
  },
  "cells": [
    {
      "cell_type": "code",
      "execution_count": null,
      "metadata": {
        "id": "WO8RX8F3KDZG"
      },
      "outputs": [],
      "source": [
        "#### Lista de exercicios 05/05/22 ####"
      ]
    },
    {
      "cell_type": "code",
      "source": [
        "#1 - Programa que multiplica e depois calcula o resto da divisao entre 3 numeros de entrada\n",
        "\n",
        "num1 = int(input('Digite um número: '))\n",
        "num2 = int(input('Digite um número: '))\n",
        "num3 = int(input('Digite um número: '))\n",
        "\n",
        "multiplicacao = num1 * num2\n",
        "resto = multiplicacao % num3\n",
        "\n",
        "print(f'A multiplicacao de num1 por num2: {multiplicacao}\\nO resto da divisao entre multiplicao e num3: {resto}')"
      ],
      "metadata": {
        "colab": {
          "base_uri": "https://localhost:8080/"
        },
        "id": "HcnVcso4MJ8p",
        "outputId": "ce6d23ae-3771-4d94-89a6-583247372811"
      },
      "execution_count": null,
      "outputs": [
        {
          "output_type": "stream",
          "name": "stdout",
          "text": [
            "Digite um número: 10\n",
            "Digite um número: 10\n",
            "Digite um número: 2\n",
            "A multiplicacao de num1 por num2: 100\n",
            "O resto da divisao entre multiplicao e num3: 0\n"
          ]
        }
      ]
    },
    {
      "cell_type": "code",
      "source": [
        "#2 - Programa que faz soma e subtracao envolvendo 4 numeros input\n",
        "\n",
        "num1 = int(input('Digite um número: '))\n",
        "num2 = int(input('Digite outro número: '))\n",
        "num3 = int(input('Digite outro número: '))\n",
        "num4 = int(input('Digite outro número: '))\n",
        "\n",
        "soma_dos_primeiros = num1 + num2 + num3\n",
        "subtracao = soma_dos_primeiros - num4\n",
        "\n",
        "print('Operações efetuadas:\\n', num1, '+' ,num2, '+' ,num3, '=', soma_dos_primeiros, '\\n',soma_dos_primeiros, '-', num4, '=', subtracao)"
      ],
      "metadata": {
        "id": "nJfUhiIEQQzu"
      },
      "execution_count": null,
      "outputs": []
    },
    {
      "cell_type": "code",
      "source": [
        "#3 - Programa que efetua somas e subtrações entre 8 numeros input\n",
        "\n",
        "num1 = int(input('Digite um número: '))\n",
        "num2 = int(input('Digite um número: '))\n",
        "num3 = int(input('Digite um número: '))\n",
        "num4 = int(input('Digite um número: '))\n",
        "num5 = int(input('Digite um número: '))\n",
        "num6 = int(input('Digite um número: '))\n",
        "num7 = int(input('Digite um número: '))\n",
        "num8 = int(input('Digite um número: '))\n",
        "\n",
        "soma_dos_primeiros = num1 + num2 + num3 + num4 + num5 + num6\n",
        "subtracao = soma_dos_primeiros - num7 - num8\n",
        "\n",
        "print(f'Operações efetuadas:\\n{num1} + {num2} + {num3} + {num4} + {num5} + {num6} = {soma_dos_primeiros}\\n{soma_dos_primeiros} - {num7} - {num8} = {subtracao}')"
      ],
      "metadata": {
        "id": "gyFaOFQqUVao"
      },
      "execution_count": null,
      "outputs": []
    },
    {
      "cell_type": "code",
      "source": [
        "#4 - Programa que soma, multiplica e tira raiz quadrada entre os 4 numeros envolvidos\n",
        "import math\n",
        "\n",
        "num1 = float(input('Digite um número: '))\n",
        "num2 = float(input('Digite um número: '))\n",
        "num3 = float(input('Digite um número: '))\n",
        "num4 = float(input('Digite um número: '))\n",
        "\n",
        "soma1 = num1 + num3\n",
        "soma2 = num2 + num4\n",
        "multiplicacao = soma1 * soma2\n",
        "raiz = math.sqrt(multiplicacao)\n",
        "\n",
        "print(f'Operações efetuadas:\\n{num1} + {num3} = {soma1}\\n{num2} + {num4} = {soma2}\\n{soma1} * {soma2} = {multiplicacao}\\nRaiz quadrada de {multiplicacao} = {raiz}')\n"
      ],
      "metadata": {
        "colab": {
          "base_uri": "https://localhost:8080/"
        },
        "id": "mZTuVjcoZOEv",
        "outputId": "cb4bc743-eda7-4976-e948-82bcdb892c2d"
      },
      "execution_count": null,
      "outputs": [
        {
          "output_type": "stream",
          "name": "stdout",
          "text": [
            "Digite um número: 10.2\n",
            "Digite um número: 10.5\n",
            "Digite um número: 10.4\n",
            "Digite um número: 10.9\n",
            "Operações efetuadas:\n",
            "10.2 + 10.4 = 20.6\n",
            "10.5 + 10.9 = 21.4\n",
            "20.6 * 21.4 = 440.84\n",
            "Raiz quadrada de 440.84 = 20.99619013059274\n"
          ]
        }
      ]
    },
    {
      "cell_type": "code",
      "source": [
        "#5 - Programa que soma, subtrai, multiplica e divide entre os 6 numeros digitado no input\n",
        "\n",
        "num1 = float(input('Digite um número: '))\n",
        "num2 = float(input('Digite um número: '))\n",
        "num3 = float(input('Digite um número: '))\n",
        "num4 = float(input('Digite um número: '))\n",
        "num5 = float(input('Digite um número: '))\n",
        "num6 = float(input('Digite um número: '))\n",
        "\n",
        "soma = num1 + num2\n",
        "subtracao = num4 - num3\n",
        "divisao = num5 / num6\n",
        "multiplicacao = soma * subtracao * divisao\n",
        "\n",
        "print(f'Operações efetuadas:\\n{num1} + {num2} = {soma}\\n{num3} - {num4} = {subtracao}\\n{num5} / {num6} = {divisao:.5f}\\nO resultado final da multiplicacao entre os resultados anteriores: {multiplicacao:015.3f}')"
      ],
      "metadata": {
        "colab": {
          "base_uri": "https://localhost:8080/"
        },
        "id": "t7w6FQ5sdmza",
        "outputId": "3ae154c0-1bb4-43f9-ddce-8eacd72652bb"
      },
      "execution_count": null,
      "outputs": [
        {
          "output_type": "stream",
          "name": "stdout",
          "text": [
            "Digite um número: 12.2\n",
            "Digite um número: 32.4\n",
            "Digite um número: 30.4\n",
            "Digite um número: 60.7\n",
            "Digite um número: 100\n",
            "Digite um número: 102\n",
            "Operações efetuadas:\n",
            "12.2 + 32.4 = 44.599999999999994\n",
            "30.4 - 60.7 = 30.300000000000004\n",
            "100.0 / 102.0 = 0.98039\n",
            "O resultado final da multiplicacao entre os resultados anteriores: 00000001324.882\n"
          ]
        }
      ]
    },
    {
      "cell_type": "code",
      "source": [
        "#6 - Programa que realiza calculos matemáticos a partir de 11 inputs\n",
        "\n",
        "num1 = float(input('Digite um número: '))\n",
        "num2 = float(input('Digite um número: '))\n",
        "num3 = float(input('Digite um número: '))\n",
        "num4 = float(input('Digite um número: '))\n",
        "num5 = float(input('Digite um número: '))\n",
        "num6 = float(input('Digite um número: '))\n",
        "num7 = float(input('Digite um número: '))\n",
        "num8 = float(input('Digite um número: '))\n",
        "num9 = float(input('Digite um número: '))\n",
        "num10 = float(input('Digite um número: '))\n",
        "num11 = float(input('Digite um número: '))\n",
        "\n",
        "soma = num1 + num2 + num3\n",
        "divisao = num5 / num4\n",
        "subtracao = num6 - num7\n",
        "soma2 = num8 + num9 + num10\n",
        "\n",
        "subtracao2 = soma - divisao - subtracao - soma2\n",
        "multiplicacao = subtracao2 * num11\n",
        "\n",
        "quociente = multiplicacao // 10\n",
        "resto = multiplicacao % 10\n",
        "\n",
        "print(f'Operações efetuadas:\\n{num1} + {num2} + {num3} = {soma}\\n{num5} / {num4} = {divisao}\\n{num6} - {num7} = {subtracao}\\n{num8} + {num9} + {num10} = {soma2}\\n{soma} - {divisao} - {subtracao} - {soma2} = {subtracao2}\\n{subtracao2} * {num11} = {multiplicacao}\\nQuociente da divisão de {multiplicacao} // 10: {quociente:.2f}\\nResto da divisão de {multiplicacao} % 10: {resto:.2f1}')"
      ],
      "metadata": {
        "id": "4f1xUE9SkyRt"
      },
      "execution_count": null,
      "outputs": []
    },
    {
      "cell_type": "code",
      "source": [
        "#7 - Programa que transforma metro em milimetro e km\n",
        "\n",
        "metro = int(input('Digite quantos metros quer transformar em mm e km: '))\n",
        "\n",
        "milimetro = metro * 1000\n",
        "kilometro = metro / 1000\n",
        "\n",
        "print(f'Distancia convertida para  milimetro: {milimetro}mm.\\nDistancia convertida para kilometro: {kilometro}km.')"
      ],
      "metadata": {
        "colab": {
          "base_uri": "https://localhost:8080/"
        },
        "id": "mpEM36w1fSP3",
        "outputId": "ee1d9d52-8394-400b-bf27-7f66dec60d4a"
      },
      "execution_count": null,
      "outputs": [
        {
          "output_type": "stream",
          "name": "stdout",
          "text": [
            "Digite quantos metros quer transformar em mm e km: 4500\n",
            "Distancia convertida para  milimetro: 4500000mm.\n",
            "Distancia convertida para kilometro: 4.5km.\n"
          ]
        }
      ]
    },
    {
      "cell_type": "code",
      "source": [
        "#8 - Programa que calcula o total de segundos baseados nas entradas dias, horas, minutos e segundos\n",
        "\n",
        "dias = float(input('Digite o número de dias: '))\n",
        "horas = float(input('Digite o número de horas: '))\n",
        "minutos = float(input('Digite o total de minutos(entre 0 e 59): '))\n",
        "segundos = float(input('Digite o total de segundos(entre 0 e 59): '))\n",
        "\n",
        "segundos_dia = dias * 86400\n",
        "segundos_hora = horas * 3600\n",
        "\n",
        "soma = segundos_dia + segundos_hora + minutos + segundos\n",
        "\n",
        "print('A soma do tempo lido corresponde a um total de' ,soma, 'segundos.')\n"
      ],
      "metadata": {
        "colab": {
          "base_uri": "https://localhost:8080/"
        },
        "id": "TEMef4aDjG9O",
        "outputId": "549a6154-74dc-4e6d-a109-9912eea48041"
      },
      "execution_count": null,
      "outputs": [
        {
          "output_type": "stream",
          "name": "stdout",
          "text": [
            "Digite o número de dias: 20\n",
            "Digite o número de horas: 5\n",
            "Digite o total de minutos(entre 0 e 59): 17\n",
            "Digite o total de segundos(entre 0 e 59): 3\n",
            "A soma do tempo lido corresponde a um total de 1746020.0 segundos.\n"
          ]
        }
      ]
    },
    {
      "cell_type": "code",
      "source": [
        "#9 - Lista de compras que exiba no final uma nota com quantidade comprada de cada produto, alem do valor de cada e o total da compra\n",
        "\n",
        "produto1 = input('Digite o nome do produto:')\n",
        "preco1 = float(input('Digite o preço do produto: '))\n",
        "quantidade1 = int(input('Digite a quantidade: '))\n",
        "valor1 = preco1 * quantidade1\n",
        "\n",
        "produto2 = input('Digite o nome do produto:')\n",
        "preco2 = float(input('Digite o preço do produto: '))\n",
        "quantidade2 = int(input('Digite a quantidade: '))\n",
        "valor2 = preco2 * quantidade2\n",
        "\n",
        "produto3 = input('Digite o nome do produto:')\n",
        "preco3 = float(input('Digite o preço do produto: '))\n",
        "quantidade3 = int(input('Digite a quantidade: '))\n",
        "valor3 = preco3 * quantidade3\n",
        "\n",
        "produto4 = input('Digite o nome do produto:')\n",
        "preco4 = float(input('Digite o preço do produto: '))\n",
        "quantidade4 = int(input('Digite a quantidade: '))\n",
        "valor4 = preco4 * quantidade4\n",
        "\n",
        "produto5 = input('Digite o nome do produto:')\n",
        "preco5 = float(input('Digite o preço do produto: '))\n",
        "quantidade5 = int(input('Digite a quantidade: '))\n",
        "valor5 = preco5 * quantidade5\n",
        "\n",
        "total = valor1 + valor2 + valor3 + valor4 + valor5\n",
        "\n",
        "print('***********************','\\n','Lista de produtos','\\n','*******************','\\n','\\t', '1) ', produto1, '(RS ',preco1, '-',quantidade1,'unidade(s)): R$ ',valor1,'\\n','\\t', '2) ', produto2, '(RS ',preco2, '-',quantidade2,'unidade(s)): R$ ',valor2,'\\n','\\t', '3) ', produto3, '(RS ',preco3, '-',quantidade3,'unidade(s)): R$ ',valor3,'\\n','\\t', '4) ', produto4, '(RS ',preco4, '-',quantidade4,'unidade(s)): R$ ',valor4,'\\n','\\t', '5) ', produto2, '(RS ',preco5, '-',quantidade5,'unidade(s)): R$ ',valor5,'\\n','Total da compra: R$',total,'\\n','***************')"
      ],
      "metadata": {
        "colab": {
          "base_uri": "https://localhost:8080/"
        },
        "id": "qX5-rBhxrgOc",
        "outputId": "ed60c88f-4260-4ea3-d7b5-eb6b0961bb19"
      },
      "execution_count": null,
      "outputs": [
        {
          "output_type": "stream",
          "name": "stdout",
          "text": [
            "Digite o nome do produto:abacaxi\n",
            "Digite o preço do produto: 10.21\n",
            "Digite a quantidade: 2\n",
            "Digite o nome do produto:leite\n",
            "Digite o preço do produto: 6.99\n",
            "Digite a quantidade: 2\n",
            "Digite o nome do produto:pao\n",
            "Digite o preço do produto: 4.99\n",
            "Digite a quantidade: 3\n",
            "Digite o nome do produto:sabonete\n",
            "Digite o preço do produto: 2.34\n",
            "Digite a quantidade: 6\n",
            "Digite o nome do produto:salgadinhi\n",
            "Digite o preço do produto: 4.80\n",
            "Digite a quantidade: 2\n",
            "*********************** \n",
            " Lista de produtos \n",
            " ******************* \n",
            " \t 1)  abacaxi (RS  10.21 - 2 unidade(s)): R$  20.42 \n",
            " \t 2)  leite (RS  6.99 - 2 unidade(s)): R$  13.98 \n",
            " \t 3)  pao (RS  4.99 - 3 unidade(s)): R$  14.97 \n",
            " \t 4)  sabonete (RS  2.34 - 6 unidade(s)): R$  14.04 \n",
            " \t 5)  leite (RS  4.8 - 2 unidade(s)): R$  9.6 \n",
            " Total da compra: R$ 73.01 \n",
            " ***************\n"
          ]
        }
      ]
    },
    {
      "cell_type": "code",
      "source": [
        "#10 - Programa que mostra ao usuario nomes, salarios, somatoria e media salarial de funcionarios de uma empresa\n",
        "import math\n",
        "\n",
        "\n",
        "funcionario1 = input('Digite o nome do funcionário: ')\n",
        "salario1 = float(input('Digite o salario do funcionrio: '))\n",
        "\n",
        "funcionario2 = input('Digite o nome do funcionário: ')\n",
        "salario2 = float(input('Digite o salario do funcionário: '))\n",
        "\n",
        "funcionario3 = input('Digite o nome do funcionario: ')\n",
        "salario3 = float(input('Digite o salario do funcionário: '))\n",
        "\n",
        "funcionario4 = input('Digite o nome do funcionário: ')\n",
        "salario4 = float(input('Digite o salario do funcionário: '))\n",
        "\n",
        "funcionario5 = input('Digite o nome do funcionário: ')\n",
        "salario5 = float(input('Digite o salario do funcionário: '))\n",
        "\n",
        "soma_dos_salarios = salario1 + salario2 + salario2 + salario4 + salario5\n",
        "media_salarial = soma_dos_salarios / 5\n",
        "\n",
        "salario_ao_cubo = soma_dos_salarios ** 3\n",
        "raiz_da_media_salarial = math.sqrt(media_salarial)\n",
        "\n",
        "print(f'*************\\nFuncionarios\\n**************\\nsalario 1({funcionario1}): R${salario1}\\n\\tSalario 2({funcionario2}):R${salario2}\\n\\tSalario 3 ({funcionario3}):R${salario3}\\n\\tSalario 4({funcionario4}):R${salario4}\\n\\tSalario 5({funcionario5}):R${salario5}\\n#######################\\nTotal somado dos salario: R${soma_dos_salarios}\\nMédia salarial da empresa: R${media_salarial}\\n#######################\\n\\n*************************\\nSomatorio dos salarios elevado ao cubo: {salario_ao_cubo}\\nRaiz quadrada da média salarial: {raiz_da_media_salarial}\\n*************************')"
      ],
      "metadata": {
        "colab": {
          "base_uri": "https://localhost:8080/"
        },
        "id": "dHtfzxcf4WAY",
        "outputId": "bd2cf58d-3e23-4f01-a8ba-00080876dd35"
      },
      "execution_count": null,
      "outputs": [
        {
          "output_type": "stream",
          "name": "stdout",
          "text": [
            "Digite o nome do funcionário: zequinha\n",
            "Digite o salario do funcionrio: 1.500\n",
            "Digite o nome do funcionário: julinho\n",
            "Digite o salario do funcionário: 350\n",
            "Digite o nome do funcionario: flavinho\n",
            "Digite o salario do funcionário: 250\n",
            "Digite o nome do funcionário: claudinho\n",
            "Digite o salario do funcionário: 4000\n",
            "Digite o nome do funcionário: gustavao\n",
            "Digite o salario do funcionário: 10.000\n",
            "*************\n",
            "Funcionarios\n",
            "**************\n",
            "salario 1(zequinha): R$1.5\n",
            "\tSalario 2(julinho):R$350.0\n",
            "\tSalario 3 (flavinho):R$250.0\n",
            "\tSalario 4(claudinho):R$4000.0\n",
            "\tSalario 5(gustavao):R$10.0\n",
            "#######################\n",
            "Total somado dos salario: R$4711.5\n",
            "Média salarial da empresa: R$942.3\n",
            "#######################\n",
            "\n",
            "*************************\n",
            "Somatorio dos salarios elevado ao cubo: 104586971245.875\n",
            "Raiz quadrada da média salarial: 30.69690538148756\n",
            "*************************\n"
          ]
        }
      ]
    }
  ]
}