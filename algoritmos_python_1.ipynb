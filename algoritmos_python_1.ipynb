{
  "cells": [
    {
      "cell_type": "code",
      "execution_count": null,
      "metadata": {
        "colab": {
          "base_uri": "https://localhost:8080/"
        },
        "id": "L1FpTcZYPYpg",
        "outputId": "0b24b42d-4319-4c13-ec0e-c1d16e01cb0d"
      },
      "outputs": [
        {
          "output_type": "stream",
          "name": "stdout",
          "text": [
            "Digite o nome do passageiro: Neymar Jr\n",
            "Digite o local de origem: Sao Paulo\n",
            "digite um local de destino: Paris\n",
            "Digite o assento (Um número e letra): 5D\n",
            "Digite a data de embarque (00/00/0000): 12/08/2022\n",
            "Digite o horário de embarque (00:00): 12:40\n",
            "\n",
            "#########################################################################\n",
            "COMPANHIA AÉREA VOLARE\n",
            "#########################################################################\n",
            "\n",
            "Nome do passageiro : Neymar Jr\n",
            "\n",
            "\tOrigem: Sao Paulo\n",
            "\tDestino: Paris\n",
            "\n",
            "\t\tData de embarque: 12/08/2022\n",
            "\t\tHorário: 12:40\n",
            "\n",
            "\tAssento: 5D\n",
            "\n",
            "*******************\n",
            "Obrigado por voar conosco!\n",
            "*******************\n"
          ]
        }
      ],
      "source": [
        "#1 - ALGORITMO QUE IMPRIME UM BILHETE AÉREO A PARTIR DA ENTRADA DE DADOS DO USUÁRIO\n",
        "\n",
        "##DADOS DE ENTRADA -  ESSES DADOS SÃO DIGITADOS PELO USUÁRIO E COMPOEM A SAÍDA DA INFORMAÇÃO NO PRINT\n",
        "\n",
        "nome = input('Digite o nome do passageiro: ')\n",
        "local_origem = input('Digite o local de origem: ')\n",
        "local_destino = input('digite um local de destino: ')\n",
        "assento = input('Digite o assento (Um número e letra): ')\n",
        "data = input('Digite a data de embarque (00/00/0000): ')\n",
        "horario = input('Digite o horário de embarque (00:00): ')\n",
        "\n",
        "##SAIDA DE DADOS - OS PRINTS IRÃO IMPRIMIR OS DADOS DIGITADOS PELO USUÁRIO NA ENTRADA\n",
        "\n",
        "print(f'\\n#########################################################################\\nCOMPANHIA AÉREA VOLARE\\n#########################################################################')\n",
        "print()                          ##UTILIZEI PRINTS BRANCOS PARA DEIXAR UMA LINHA ESPAÇADA, PODERIA TAMBÉM DAR ESSE COMANDO UTILIZANDO \\n\n",
        "print(f'Nome do passageiro : {nome}')\n",
        "print()\n",
        "print(f'\\tOrigem: {local_origem}')\n",
        "print(f'\\tDestino: {local_destino}')\n",
        "print()\n",
        "print(f'\\t\\tData de embarque: {data}')\n",
        "print(f'\\t\\tHorário: {horario}')\n",
        "print()\n",
        "print(f'\\tAssento: {assento}')\n",
        "print()\n",
        "print(f'*******************\\nObrigado por voar conosco!\\n*******************')"
      ]
    },
    {
      "cell_type": "code",
      "execution_count": null,
      "metadata": {
        "id": "_ZdB2yD5sElH"
      },
      "outputs": [],
      "source": [
        "#2 - ALGORITMO QUE IMPRIME AS HORAS DE UM DIA DE SEGUNDO A SEGUNDO, APRESENTANDO UMA MENSAGEM NO HORARIO DE COMPROMISSO DO USUÁRIO\n",
        "\n",
        "###VARIAVEIS MULTIPLA PARA O USUÁRIO DIGITAR O HORARIO DE SEU COMPROMISSO\n",
        "\n",
        "hora_compromisso, minuto_compromisso = input('Digite o horário do compromisso (FORMATO 00:00): ').split(':')\n",
        "\n",
        "###POR CONTA DAS VARIAVEIS MULTIPLA NAO ACEITAREM O COMANDO INT NA ENTRADA RECRIEI AS VARIAVEIS PARA QUE ELAS ASSUMAM O FORMATO DE NUMEROS INTEIROS\n",
        "\n",
        "hora_compromisso = int(hora_compromisso)\n",
        "minuto_compromisso = int(minuto_compromisso)\n",
        "\n",
        "###CADA UMA DOS INTERVALOS HORA, MINUTO, SEGUNDOS FOI CRIADA UTILIZANDO 'FOR' 'IN RANGE' PASSANDO DOIS NUMEROS PARA COMPOR INTERVALO E O ULTIMO COMO INCREMENTO DE 1 EM 1\n",
        "\n",
        "print(f'Inicio do dia...\\n')\n",
        "\n",
        "for hora in range(0, 24, 1):\n",
        "  for minuto in range(0, 60, 1):\n",
        "    for segundos in range(0, 60, 1):\n",
        "\n",
        "      ###VARIAVEL CRIADA PARA INDICAR A HORA CHEIA E PARA PARAR A CONTAGEM DAS HORAS COM UM INPUT\n",
        "      if minuto == 00 and segundos == 00:\n",
        "        print(f'################ HORA CERTA : {hora:02.0f}:{minuto:02.0f}:{segundos:02.0f}.')\n",
        "        input('Digite <enter> para continuar: ')\n",
        "\n",
        "      else:\n",
        "          print(f'{hora:02.0f}:{minuto:02.0f}:{segundos:02.0f}')\n",
        "\n",
        "      ###VARIAVEL CRIADA PARA ALERTAR O USUÁRIO DO HORARIO DO COMPROMISSO\n",
        "\n",
        "      if hora_compromisso == hora and minuto_compromisso == minuto and segundos == 00:\n",
        "        print('****************** HORA DO SEU COMPROMISSO')\n",
        "        input('Digite <enter> para continuar: ')\n",
        "\n",
        "print()\n",
        "print(f'Fim do dia.')\n"
      ]
    },
    {
      "cell_type": "code",
      "execution_count": null,
      "metadata": {
        "colab": {
          "base_uri": "https://localhost:8080/"
        },
        "id": "l8QlV3EDV_Fn",
        "outputId": "ffdff75c-27f9-4bf2-9686-aa7e1a2a9328"
      },
      "outputs": [
        {
          "name": "stdout",
          "output_type": "stream",
          "text": [
            "Digite o total de votos validos: 345\n",
            "Digite o total de votos brancos: 44\n",
            "Digite o total de votos nulos: 22\n",
            "############ Resultado da eleição ############\n",
            "\n",
            "Total de eleitores: 411 votantes.\n",
            "Total de votos válidos: 345 ( 83.94 % do total de eleitores).\n",
            "Total de votos em branco: 44 ( 10.71 % do total de eleitores).\n",
            "Total de votos nulos: 22 ( 5.35 % do total de eleitores).\n"
          ]
        }
      ],
      "source": [
        "#3 - ALGORITMO QUE INDICA A QUANTIDADE DE VOTOS EM UMA ELEIÇÃO E SEPARA VALIDOS, BRANCOS E NULOS\n",
        "\n",
        "##DADOS DE ENTRADA - DIGITADO PELO USUÁRIO\n",
        "\n",
        "votos_validos = int(input('Digite o total de votos validos: '))\n",
        "votos_brancos = int(input('Digite o total de votos brancos: '))\n",
        "votos_nulos = int(input('Digite o total de votos nulos: '))\n",
        "\n",
        "##PROCESSAMENTO - CALCULOS ARMAZENADOS NAS VARIÁVEIS PARA SER APRESENTADO NA SAÍDA\n",
        "\n",
        "total_de_eleitores = votos_validos + votos_brancos + votos_nulos ##PARA ENCONTRAR O NÚMERO TOTAL DE ELEITORES, CRIEI A VARIAVEL TOTAL_DE_ELEITORES\n",
        "percentual_validos = votos_validos * 100 / total_de_eleitores ##CALCULO DO PERCENTUAL DE VOTOS VÁLIDOS\n",
        "percentual_brancos = votos_brancos * 100 / total_de_eleitores ##CALCULO DO PERCENTUAL DE VOTOS BRANCOS\n",
        "percentual_nulos = votos_nulos * 100 / total_de_eleitores ##CALCULO DO PERCENTUAL DE VOTOS NULOS\n",
        "\n",
        "##SAÍDA\n",
        "print('############ Resultado da eleição ############')\n",
        "print()\n",
        "print('Total de eleitores:', total_de_eleitores, 'votantes.' )\n",
        "print('Total de votos válidos:', votos_validos, '(', '%.2f'%percentual_validos,'% do total de eleitores).')\n",
        "print('Total de votos em branco:', votos_brancos, '(', '%.2f'%percentual_brancos,'% do total de eleitores).')\n",
        "print('Total de votos nulos:', votos_nulos, '(', '%.2f'%percentual_nulos,'% do total de eleitores).')"
      ]
    }
  ],
  "metadata": {
    "colab": {
      "provenance": []
    },
    "kernelspec": {
      "display_name": "Python 3",
      "name": "python3"
    },
    "language_info": {
      "name": "python"
    }
  },
  "nbformat": 4,
  "nbformat_minor": 0
}