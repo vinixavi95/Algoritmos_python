{
  "cells": [
    {
      "cell_type": "code",
      "execution_count": null,
      "metadata": {
        "id": "Za9jdODXbI_A",
        "outputId": "759cbc3b-3e72-4b57-9701-7df9c80bbc6f",
        "colab": {
          "base_uri": "https://localhost:8080/"
        }
      },
      "outputs": [
        {
          "output_type": "stream",
          "name": "stdout",
          "text": [
            "Digite a quantidade de energia consumida em kWh: 600\n",
            "Digite o tipo de instalação (R para residenciais, I para industriais, C para comercial): R\n",
            "Preço a pagar pela energia consumida: R$ 390.00\n"
          ]
        }
      ],
      "source": [
        "#1 - Programa que calcule o valor a pagar de uma conta de fornecimento de energia elétrica\n",
        "\n",
        "energia = float(input('Digite a quantidade de energia consumida em kWh: '))\n",
        "instalacao = input('Digite o tipo de instalação (R para residenciais, I para industriais, C para comercial): ')\n",
        "\n",
        "\n",
        "if energia <= 500 and instalacao == 'R':\n",
        "  preco = float(0.40 * energia)\n",
        "\n",
        "elif energia > 500 and instalacao == 'R':\n",
        "  preco = float(0.65 * energia)\n",
        "\n",
        "elif energia <= 1000 and instalacao == 'C':\n",
        "  preco = float(0.55 * energia)\n",
        "\n",
        "elif energia > 1000 and instalacao == 'C':\n",
        "  preco = float(0.70 * energia)\n",
        "\n",
        "elif energia <= 5000 and instalacao == 'I':\n",
        "  preco = float(0.75 * energia)\n",
        "\n",
        "elif energia > 5000 and instalacao == 'I':\n",
        "    preco = float(0.80 * energia)\n",
        "\n",
        "else:\n",
        "  print('Instalação incorreta')\n",
        "\n",
        "print(f'Preço a pagar pela energia consumida: R$ {preco:.2f}')"
      ]
    },
    {
      "cell_type": "code",
      "source": [],
      "metadata": {
        "id": "dc3eO6HofW3Z"
      },
      "execution_count": null,
      "outputs": []
    },
    {
      "cell_type": "code",
      "execution_count": null,
      "metadata": {
        "colab": {
          "base_uri": "https://localhost:8080/"
        },
        "id": "bCtc-tTiwUMj",
        "outputId": "930b1e18-9d7d-4b4a-a1c5-0e93af0b64bc"
      },
      "outputs": [
        {
          "name": "stdout",
          "output_type": "stream",
          "text": [
            "Digite 3 números diferentes entre si\n",
            "Digite o primeiro número: 3\n",
            "Digite o segundo número: 5\n",
            "digite o terceiro número: 6\n",
            "Maior número digitado: 6\n",
            "Menor número digitado: 3\n"
          ]
        }
      ],
      "source": [
        "#2 - PROGRAMA QUE MOSTRA O MAIOR E O MENOR NUMERO ENTRE TRES ENTRADAS DE NUMEROS DIFERENTES\n",
        "print('Digite 3 números diferentes entre si')\n",
        "num1 = int(input('Digite o primeiro número: '))\n",
        "num2 = int(input('Digite o segundo número: '))\n",
        "num3 = int(input('digite o terceiro número: '))\n",
        "\n",
        "if num1 > num2 and num3:\n",
        "  maior_numero = num1\n",
        "\n",
        "elif num2 > num3 and num1:\n",
        "  maior_numero = num2\n",
        "\n",
        "elif num3 > num2 and num1:\n",
        "  maior_numero = num3\n",
        "\n",
        "print(f'Maior número digitado: {maior_numero}')\n",
        "\n",
        "if num1 < num2 and num3:\n",
        "  menor_numero = num1\n",
        "\n",
        "elif num2 < num3 and num1:\n",
        "  menor_numero = num2\n",
        "\n",
        "elif num3 < num2 and num1:\n",
        "  menor_numero = num3\n",
        "\n",
        "print(f'Menor número digitado: {menor_numero}')\n"
      ]
    },
    {
      "cell_type": "code",
      "execution_count": null,
      "metadata": {
        "colab": {
          "base_uri": "https://localhost:8080/"
        },
        "id": "KZlMOTpwMlzu",
        "outputId": "45261a48-8b8e-46b1-9d1c-d8ac80119e02"
      },
      "outputs": [
        {
          "name": "stdout",
          "output_type": "stream",
          "text": [
            "Digite o valor da casa: 300000\n",
            "Digite o salário: 4500\n",
            "Digite o prazo do financiamento em anos: 35\n",
            "Teto da prestação: R$1350.00\n",
            "A prestação mensal será de R$714.29\n",
            "Emprestimo concedido\n"
          ]
        }
      ],
      "source": [
        "#3 - PROGRAMA QUE CALCULA O VALOR DO FINANCIAMENTO DE UMA CASA\n",
        "\n",
        "valor_da_casa = float(input('Digite o valor da casa: '))\n",
        "salario = float(input('Digite o salário: '))\n",
        "prazo = int(input('Digite o prazo do financiamento em anos: '))\n",
        "prazo1 = prazo * 12\n",
        "\n",
        "prestacao_mensal = valor_da_casa / prazo1\n",
        "salario_menos_30 = salario * 0.30\n",
        "\n",
        "if prestacao_mensal <= salario_menos_30:\n",
        "  emprestimo = 'Emprestimo concedido'\n",
        "\n",
        "else:\n",
        "  emprestimo = 'Valor da prestacao supera 30% do salário, refaça o calculo'\n",
        "\n",
        "print(f'Teto da prestação: R${salario_menos_30:.2f}')\n",
        "\n",
        "print(f'A prestação mensal será de R${prestacao_mensal:.2f}')\n",
        "\n",
        "print(f'{emprestimo}')"
      ]
    },
    {
      "cell_type": "code",
      "execution_count": null,
      "metadata": {
        "id": "jsC92vqwUW8T"
      },
      "outputs": [],
      "source": [
        "#5 - CONVERSOR DE TEMPERATURA\n",
        "\n",
        "temperatura = int(input('Digite a temperatura a ser convertida (em graus): '))\n",
        "print(f'\\nDigite a temperatura a ser convertida: {temperatura}\\n*****************\\nOperações de conversão:\\n\\t1:Celsius para Fahrenheit\\n\\t2:Celsius para Kelvin\\n\\t3:Fahrenheit para Celsius\\n\\t4:Fahrenheit para Celsius\\n\\t5:Kelvin pata Fahrenheit\\n\\t6:Kelvin para Celsius\\n****************')\n",
        "\n",
        "fahrenheit = 1.8 * temperatura + 32\n",
        "kelvin = temperatura + 273\n",
        "celsius = 0.55 * (temperatura - 32) ##de fahrenheit para celsius\n",
        "Fkelvin = 0.5 * (temperatura - 32) + 273\n",
        "Kfahrenheit = 1.8 * (temperatura - 273) + 32\n",
        "Kcelsius = temperatura - 273\n",
        "\n",
        "categoria = int(input('Digite uma operação de conversão: '))\n",
        "\n",
        "if categoria == 1:\n",
        "  print(f'Resposta: {temperatura} graus Celsius equivalem a {fahrenheit} graus Fahrenheit')\n",
        "\n",
        "elif categoria == 2:\n",
        "  print(f'Resposta: {temperatura} graus Celsius equivalem a {kelvin} graus Kelvin')\n",
        "\n",
        "elif categoria == 3:\n",
        "  print(f'Resposta: {temperatura} graus Fahrenheit equivalem a {celsius} graus Celsius')\n",
        "\n",
        "elif categoria == 4:\n",
        "  print(f'Resposta: {temperatura} graus Fahrenheit equivalem a {Fkelvin} graus Kelvin')\n",
        "\n",
        "elif categoria == 5:\n",
        "  print(f'Resposta: {temperatura} graus Kelvin equivalem a {Kfahrenheit} graus Fahrenheit')\n",
        "\n",
        "elif categoria == 6:\n",
        "  print(f'Resposta: {temperatura} graus Kelvin equivalem a {Kcelsius} graus Celsius')\n",
        "\n",
        "else:\n",
        "  print('Operação invalida, digite um número de 1 a 6')\n"
      ]
    },
    {
      "cell_type": "code",
      "execution_count": null,
      "metadata": {
        "id": "hI1NhvYqk0Tx"
      },
      "outputs": [],
      "source": [
        "#4 - algoritmo que calcula a expressão valor1 > valor2 and valor3 or valor4\n",
        "\n",
        "valor1 = 1\n",
        "valor2 = 2\n",
        "valor3 = not valor1 > valor2\n",
        "valor4 = not valor3\n",
        "\n",
        "print(valor4)\n",
        "\n",
        "valor1 = 10\n",
        "valor2 = 3\n",
        "valor3 = not valor1 > valor2\n",
        "valor4 = valor3\n",
        "\n",
        "print(valor4)\n",
        "\n",
        "valor1 = 5\n",
        "valor2 = 1\n",
        "valor3 = valor1 > valor2\n",
        "valor4 = valor3\n",
        "\n",
        "print(valor4)"
      ]
    },
    {
      "cell_type": "code",
      "execution_count": null,
      "metadata": {
        "colab": {
          "base_uri": "https://localhost:8080/"
        },
        "id": "YhsqHFwSoSxp",
        "outputId": "07cb9ffd-2a2d-42b1-9ddf-505624738331"
      },
      "outputs": [
        {
          "name": "stdout",
          "output_type": "stream",
          "text": [
            "Digite a temperatura a ser convertida: 20\n",
            "Digite uma categoria de 1 a 6: 1\n",
            "\n",
            "Digite a temperatura a ser convertida: 20.0\n",
            "*****************\n",
            "Operações de conversão:\n",
            "\t1:Celsius para Fahrenheit\n",
            "\t2:Celsius para Kelvin\n",
            "\t3:Fahrenheit para Celsius\n",
            "\t4:Fahrenheit para Celsius\n",
            "\t5:Kelvin pata Fahrenheit\n",
            "\t6:Kelvin para Celsius\n",
            "****************\n",
            "Digite o número da categoria de conversão: 1\n",
            "Resposta: 68.0 \n"
          ]
        }
      ],
      "source": [
        "#5 - CONVERSOR DE TEMPERATURA\n",
        "\n",
        "temperatura = float(input('Digite a temperatura a ser convertida: '))\n",
        "categoria = int(input('Digite uma categoria de 1 a 6: '))\n",
        "\n",
        "fahrenheit = 1.8 * temperatura + 32\n",
        "kelvin = temperatura + 273\n",
        "celsius = 0.55 * (temperatura - 32) ##de fahrenheit para celsius\n",
        "Fkelvin = 0.5 * (temperatura - 32) + 273\n",
        "Kfahrenheit = 1.8 * (temperatura - 273) + 32\n",
        "Kcelsius = temperatura - 273\n",
        "\n",
        "if categoria == 1:\n",
        "  operacao = fahrenheit\n",
        "\n",
        "elif categoria == 2:\n",
        "  operacao = kelvin\n",
        "\n",
        "elif categoria == 3:\n",
        "  operacao = celsius\n",
        "\n",
        "elif categoria == 4:\n",
        "  operacao = Fkelvin\n",
        "\n",
        "elif categoria == 5:\n",
        "  operacao = Kfahrenheit\n",
        "\n",
        "elif categoria == 6:\n",
        "  operacao = Kcelsius\n",
        "\n",
        "print(f'\\nDigite a temperatura a ser convertida: {temperatura}\\n*****************\\nOperações de conversão:\\n\\t1:Celsius para Fahrenheit\\n\\t2:Celsius para Kelvin\\n\\t3:Fahrenheit para Celsius\\n\\t4:Fahrenheit para Celsius\\n\\t5:Kelvin pata Fahrenheit\\n\\t6:Kelvin para Celsius\\n****************\\nDigite o número da categoria de conversão: {categoria}\\nResposta: {operacao} ')\n"
      ]
    },
    {
      "cell_type": "code",
      "execution_count": null,
      "metadata": {
        "id": "QsfIwixae35l"
      },
      "outputs": [],
      "source": [
        "#6 - PROGRAMA QUE CALCULE A MÉDIA DE UM ALUNO\n",
        "\n",
        "aluno = input('Digite o nome do aluno: ')\n",
        "sexo_aluno = input('Digite o sexo do aluno (M ou F): ')\n",
        "nota1, nota2, nota3, nota4, nota5 = input('Digite as notas do aluno: ').split(';')\n",
        "nota1 = float(nota1)\n",
        "nota2 = float(nota1)\n",
        "nota3 = float(nota1)\n",
        "nota4 = float(nota1)\n",
        "nota5 = float(nota1)\n",
        "notas_finais = float(nota1 + nota2 + nota3 + nota4 + nota5)\n",
        "\n",
        "if notas_finais < 35 and nota1 < 7 or nota2 < 7 or nota3 < 7 or nota4 <7 or nota5 < 7:\n",
        "  print(f'Aluno {aluno} reprovado')\n",
        "\n",
        "\n",
        "else:\n",
        "  print(f'Aluno(a) {aluno} aprovado')"
      ]
    },
    {
      "cell_type": "code",
      "source": [
        "#7 -\n",
        "\n",
        "num1, num2, num3 = input('Digite um número inteiro: ').split(' ')\n",
        "num4 = int(input('Digite outro número inteiro: '))\n",
        "num1 = float(num1)\n",
        "num2 = float(num2)\n",
        "num3 = float(num3)\n",
        "\n",
        "###1\n",
        "if num1 < 0:\n",
        "  print(f'O primeiro número lido ({num1}) é negativo.')\n",
        "else:\n",
        "  print(f'O primeiro número lido ({num1}) é positivo.')\n",
        "\n",
        "if num1 == num4:\n",
        "  print(f'O primeiro número lido ({num1}) é igual a {num4}')\n",
        "elif num1 < num4:\n",
        "  print(f'O primeiro número lido ({num1}) é menor que {num4}')\n",
        "else:\n",
        "  print(f'O primeiro número lido ({num1}) é maior a {num4}')\n",
        "\n",
        "if (num1 % 2) == 0:\n",
        "  print(f'O primeiro número lido ({num1}) é par')\n",
        "else:\n",
        "  print(f'O primeiro número lido ({num1}) é impar')\n",
        "\n",
        "\n",
        "###2\n",
        "if num2 < 0:\n",
        "  print(f'O segundo número lido ({num2}) é negativo.')\n",
        "else:\n",
        "  print(f'O segundo número lido ({num2}) é positivo.')\n",
        "\n",
        "if num2 == num4:\n",
        "  print(f'O segundo número lido ({num2}) é igual a {num4}')\n",
        "elif num2 < num4:\n",
        "  print(f'O segundo número lido ({num2}) é menor que {num4}')\n",
        "else:\n",
        "  print(f'O segundo número lido ({num2}) é maior que {num4}')\n",
        "\n",
        "if (num2 % 2) == 0:\n",
        "  print(f'O segundo número lido ({num2}) é par')\n",
        "else:\n",
        "  print(f'O segundo número lido ({num2}) é impar')\n",
        "\n",
        "###3\n",
        "if num3 < 0:\n",
        "  print(f'O terceiro número lido ({num3}) é negativo.')\n",
        "else:\n",
        "  print(f'O terceiro número lido ({num3}) é positivo.')\n",
        "\n",
        "if num3 == num4:\n",
        "  print(f'O terceiro número lido ({num3}) é igual a {num4}')\n",
        "elif num3 < num4:\n",
        "  print(f'O terceiro número lido ({num3}) é menor que {num4}')\n",
        "else:\n",
        "  print(f'O terceiro número lido ({num3}) é maior que {num4}')\n",
        "\n",
        "if (num3 % 2) == 0:\n",
        "  print(f'O teceiro número lido ({num3}) é par')\n",
        "else:\n",
        "  print(f'O terceiro número lido ({num3}) é impar')\n"
      ],
      "metadata": {
        "id": "COm0Z5JV69WF"
      },
      "execution_count": null,
      "outputs": []
    },
    {
      "cell_type": "code",
      "source": [
        "#8 - LISTA DE COMPRAS COM 5 PRODUTOS\n",
        "##PRODUTO I\n",
        "produto1, preco, quantidade = input('Digite o nome do produto, preço e a quantidade, separados apenas por virgula: ').split(',')\n",
        "preco = float(preco)\n",
        "quantidade = int(quantidade)\n",
        "\n",
        "valor = preco * quantidade\n",
        "\n",
        "if quantidade >= 12:\n",
        "  valor = (preco * quantidade) - (0.20 * valor)\n",
        "\n",
        "##PRODUTO II\n",
        "produto2, preco2, quantidade2 = input('Digite o nome do produto, preço e a quantidade, separados apenas por virgula: ').split(',')\n",
        "preco2 = float(preco)\n",
        "quantidade2 = int(quantidade2)\n",
        "\n",
        "valor2 = preco2 * quantidade2\n",
        "\n",
        "if quantidade2 >= 12:\n",
        "  valor2 = (preco2 * quantidade2) - (0.20 * valor2)\n",
        "\n",
        "##PRODUTO III\n",
        "produto3, preco3, quantidade3 = input('Digite o nome do produto, preço e a quantidade, separados apenas por virgula: ').split(',')\n",
        "preco3 = float(preco3)\n",
        "quantidade3 = int(quantidade3)\n",
        "\n",
        "valor3 = preco3 * quantidade3\n",
        "\n",
        "if quantidade3 >= 12:\n",
        "  valor3 = (preco3 * quantidade3) - (0.20 * valor3)\n",
        "\n",
        "##PRODUTO IV\n",
        "produto4, preco4, quantidade4 = input('Digite o nome do produto, preço e a quantidade, separados apenas por virgula: ').split(',')\n",
        "preco4 = float(preco4)\n",
        "quantidade4 = int(quantidade4)\n",
        "\n",
        "valor4 = preco4 * quantidade4\n",
        "\n",
        "if quantidade4 >= 12:\n",
        "  valor4 = (preco4 * quantidade4) - (0.20 * valor4)\n",
        "\n",
        "##PRODUTO V\n",
        "produto5, preco5, quantidade5 = input('Digite o nome do produto, preço e a quantidade, separados apenas por virgula: ').split(',')\n",
        "preco5 = float(preco5)\n",
        "quantidade5 = int(quantidade5)\n",
        "\n",
        "valor5 = preco5 * quantidade5\n",
        "\n",
        "if quantidade5 >= 12:\n",
        "  valor5 = (preco5 * quantidade5) - (0.20 * valor5)\n",
        "\n",
        "total_da_compra = valor + valor2 + valor3 + valor4 + valor5 ##TESTAR VARIAVEL TOTAL_DA_COMPRA\n",
        "\n",
        "\n",
        "print(f'\\n#################\\nNotas de Compras\\n##################\\n\\t1){produto1}(R${preco}, {quantidade} unidade(s): R${valor}\\n\\t2){produto2}(R${preco2}, {quantidade2} unidade(s): R${valor2}\\n\\t3){produto3}(R${preco3}, {quantidade3} unidade(s): R${valor3}\\n\\t4){produto4}(R${preco4}, {quantidade4} unidade(s): R${valor4}\\n\\t5){produto5}(R${preco5}, {quantidade5} unidade(s): R${valor5}\\nTotal da compra: R${total_da_compra}\\n################')"
      ],
      "metadata": {
        "id": "jRuzwzkJL3TY"
      },
      "execution_count": null,
      "outputs": []
    },
    {
      "cell_type": "code",
      "source": [
        "#9 -\n",
        "\n",
        "num1, num2, num3 = input('Digite três números inteiros: ').split(' ')\n",
        "\n",
        "if num1 > (num2 + num3) or num2 > (num1 + num3) or num3 > (num1 + num2):\n",
        "  print('Medidas não configuram um triangulo')\n",
        "\n",
        "else:\n",
        "  print(f'As três medidas {num1}, {num2} e {num3} lidas se configuram como lados de um triângulo')\n"
      ],
      "metadata": {
        "colab": {
          "base_uri": "https://localhost:8080/"
        },
        "id": "TRXP8ktOhzIM",
        "outputId": "c77edbf7-c68b-42ea-84d1-34f7c789b338"
      },
      "execution_count": null,
      "outputs": [
        {
          "output_type": "stream",
          "name": "stdout",
          "text": [
            "Digite três números inteiros: 10 10 10\n",
            "As três medidas 10, 10 e 10 lidas se configuram como lados de um triângulo\n"
          ]
        }
      ]
    }
  ],
  "metadata": {
    "colab": {
      "provenance": []
    },
    "kernelspec": {
      "display_name": "Python 3",
      "name": "python3"
    },
    "language_info": {
      "name": "python"
    }
  },
  "nbformat": 4,
  "nbformat_minor": 0
}